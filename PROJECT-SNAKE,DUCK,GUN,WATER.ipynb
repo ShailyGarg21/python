{
 "cells": [
  {
   "cell_type": "markdown",
   "id": "6ab04251",
   "metadata": {},
   "source": [
    "# We all have played snake,water, gun game in our childhood .if you haven't ,google the rules of the games and write a python program capable of playing this game withthe user"
   ]
  },
  {
   "cell_type": "code",
   "execution_count": 14,
   "id": "3c88d8e1",
   "metadata": {},
   "outputs": [
    {
     "name": "stdout",
     "output_type": "stream",
     "text": [
      "comp Turn:Snake(s),Water(w) or Gun(g)?\n",
      "2\n",
      "player's Turn:Snake(s),Water(w) or Gun(g)?s\n",
      "Computer choosew\n",
      "you choose s\n",
      "the game is a tie:\n"
     ]
    }
   ],
   "source": [
    "import random\n",
    "def gameWin(comp,you):\n",
    " #if two values are equal ,declare a tie|   \n",
    "    if comp==you:\n",
    "        return None\n",
    "#check for all possibilites when computer choose s    \n",
    "    elif comp=='s':\n",
    "        if you  =='w':\n",
    "            return False\n",
    "    elif you=='g':\n",
    "        return True\n",
    " #check for all possibilites when computer choose w   \n",
    "    elif comp=='w':\n",
    "        if you=='g':\n",
    "            return False\n",
    "    elif comp=='s':\n",
    "        return True\n",
    "    #check for all possibilites when computer choose g\n",
    "    elif comp=='g':\n",
    "        \n",
    "        if you=='s':\n",
    "            return False\n",
    "        elif you=='w':\n",
    "            return True\n",
    "print(\"comp Turn:Snake(s),Water(w) or Gun(g)?\")\n",
    "randNo=random.randint(1,3)\n",
    "print((randNo))\n",
    "if randNo==1:\n",
    "    comp='s'\n",
    "elif randNo == 2:\n",
    "    comp='w'\n",
    "elif randNo == 3:\n",
    "    comp='g'    \n",
    "you=input(\"player's Turn:Snake(s),Water(w) or Gun(g)?\")\n",
    "a=gameWin(comp,you)\n",
    "print(f\"Computer choose{comp}\")\n",
    "print(f\"you choose {you}\")\n",
    "if a == None:\n",
    "    print(\"the game is a tie:\")\n",
    "elif a:\n",
    "    print(\"you win\")\n",
    "else:\n",
    "    print(\"you loose\")\n",
    "game(comp,you)"
   ]
  },
  {
   "cell_type": "code",
   "execution_count": null,
   "id": "504211bf",
   "metadata": {},
   "outputs": [],
   "source": []
  }
 ],
 "metadata": {
  "kernelspec": {
   "display_name": "Python 3",
   "language": "python",
   "name": "python3"
  },
  "language_info": {
   "codemirror_mode": {
    "name": "ipython",
    "version": 3
   },
   "file_extension": ".py",
   "mimetype": "text/x-python",
   "name": "python",
   "nbconvert_exporter": "python",
   "pygments_lexer": "ipython3",
   "version": "3.8.8"
  }
 },
 "nbformat": 4,
 "nbformat_minor": 5
}
